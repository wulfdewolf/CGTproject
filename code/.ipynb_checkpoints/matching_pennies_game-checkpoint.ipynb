{
 "cells": [
  {
   "cell_type": "markdown",
   "metadata": {},
   "source": [
    "# Group project - Computational Game Theory\n",
    "\n",
    "# Playing Matching pennies game\n",
    "\n",
    "In this game 2 agents compete with each other in a matching pennies game.\n",
    "Both players can heve their own learning algorithms assigned to make comparing different learners possible.\n",
    "This is done in an abstract way to make testing alternate situations easy.\n",
    "\n",
    "## TOC\n",
    "- Group info\n",
    "- Important note\n",
    "- Required imports\n",
    "- Storing and loading variables\n",
    "- Code to represent the players and games\n",
    "   - The MatchingPenniesPlayer class\n",
    "   - The MatchingPenniesGame class"
   ]
  },
  {
   "cell_type": "markdown",
   "metadata": {},
   "source": [
    "## Student info\n",
    "| Name     | Student number                        | Email address                               |\n",
    "| :---     | :---                          | :---                                |\n",
    "| Alexis Francois Verdoodt | _ | _ |\n",
    "| Lennert Bontinck | 568702 | [lennert.bontinck@vub.be](mailto:lennert.bontinck@vub.be) |\n",
    "| Sofyan Ajridi | 546395 | [wolf.de.wulf@vub.be](mailto:wolf.de.wulf@vub.be) |\n",
    "| Wolf De Wulf | _ | _ |"
   ]
  },
  {
   "cell_type": "markdown",
   "metadata": {},
   "source": [
    "## Important note\n",
    "In some codeblocks, the code might refer to variables from previous sections, in order to get accurate results code must be run top to bottom without skipping. The result of some lengthy processes is saved to a Pickle file to make the results available for reuse later."
   ]
  },
  {
   "cell_type": "markdown",
   "metadata": {},
   "source": [
    "## Required imports"
   ]
  },
  {
   "cell_type": "code",
   "execution_count": 1,
   "metadata": {},
   "outputs": [],
   "source": [
    "# General imports\n",
    "import numpy as np\n",
    "import random\n",
    "import statistics as stats\n",
    "import math\n",
    "from scipy import stats as sstats\n",
    "\n",
    "# Allow for deep copying\n",
    "import copy\n",
    "\n",
    "# Plotting imports\n",
    "import matplotlib.pylab as plt\n",
    "%matplotlib inline\n",
    "%config InlineBackend.figure_formats = {'png', 'svg'}\n",
    "\n",
    "# Library to save vars to files\n",
    "import pickle"
   ]
  },
  {
   "cell_type": "markdown",
   "metadata": {},
   "source": [
    "## Storing and loading variables"
   ]
  },
  {
   "cell_type": "code",
   "execution_count": 2,
   "metadata": {},
   "outputs": [],
   "source": [
    "def save_var_to_file(filename, network):\n",
    "    with open('savefiles/' + filename +'.pkl','wb') as f:\n",
    "        pickle.dump(network, f)\n",
    "\n",
    "def get_var_from_file(filename):\n",
    "    with open('savefiles/' + filename +'.pkl','rb') as f:\n",
    "        return pickle.load(f)\n",
    "    \n",
    "    \n",
    "#-------------------------\n",
    "\n",
    "#save to file example\n",
    "#save_var_to_file(\"folder/name\", var_to_save)\n",
    "    \n",
    "#open from file example\n",
    "#get_var_from_file = get_var_from_file(\"folder/name\")"
   ]
  },
  {
   "cell_type": "markdown",
   "metadata": {},
   "source": [
    "## Code to represent the players and games\n",
    "Let's start by making a way of representing the games and playing them in an abstract manner.\n",
    "\n",
    "### The MatchingPenniesPlayer class\n",
    "A class for defining a matching pennies player.\n",
    "The notion of states is not required for this game.\n",
    "Thus, specifying a transition function is also not required."
   ]
  },
  {
   "cell_type": "code",
   "execution_count": 4,
   "metadata": {},
   "outputs": [],
   "source": [
    "class MatchingPenniesPlayer:\n",
    "    \"\"\"\n",
    "    A class used to represent a matching pennies player.\n",
    "\n",
    "    ...\n",
    "\n",
    "    Attributes\n",
    "    ----------\n",
    "    q_value_init : int\n",
    "        integer representing the initial value of the q_values.\n",
    "    actions : str\n",
    "        the sound that the animal makes\n",
    "    num_legs : int\n",
    "        the number of legs the animal has (default 4)\n",
    "\n",
    "    Methods\n",
    "    -------\n",
    "    says(sound=None)\n",
    "        Prints the animals name and what sound it makes\n",
    "    \"\"\"\n",
    "    def __init__(self, q_value_init, actions, reward_function):\n",
    "        \"\"\"\n",
    "        Parameters\n",
    "        ----------\n",
    "        name : str\n",
    "            The name of the animal\n",
    "        sound : str\n",
    "            The sound the animal makes\n",
    "        num_legs : int, optional\n",
    "            The number of legs the animal (default is 4)\n",
    "        \"\"\"\n",
    "        self.nr_of_agents = nr_of_agents\n",
    "        self.states = states\n",
    "        self.transition_function = transition_function\n",
    "        self.reward_function = reward_function\n",
    "\n"
   ]
  },
  {
   "cell_type": "markdown",
   "metadata": {},
   "source": [
    "### The MatchingPenniesGame class\n",
    "This game does't require the notion of states since the results are indepent of a given state. Thus the transition function can simply return the initial start state for every iteration."
   ]
  },
  {
   "cell_type": "code",
   "execution_count": null,
   "metadata": {},
   "outputs": [],
   "source": []
  },
  {
   "cell_type": "code",
   "execution_count": null,
   "metadata": {},
   "outputs": [],
   "source": []
  }
 ],
 "metadata": {
  "kernelspec": {
   "display_name": "Python 3",
   "language": "python",
   "name": "python3"
  },
  "language_info": {
   "codemirror_mode": {
    "name": "ipython",
    "version": 3
   },
   "file_extension": ".py",
   "mimetype": "text/x-python",
   "name": "python",
   "nbconvert_exporter": "python",
   "pygments_lexer": "ipython3",
   "version": "3.8.3"
  }
 },
 "nbformat": 4,
 "nbformat_minor": 4
}
